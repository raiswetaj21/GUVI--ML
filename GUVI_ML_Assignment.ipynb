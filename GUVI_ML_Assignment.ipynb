{
 "cells": [
  {
   "cell_type": "markdown",
   "source": [
    "# Create Decision tree classifier in sci-kit learn using the data given below:"
   ],
   "metadata": {}
  },
  {
   "cell_type": "code",
   "execution_count": 6,
   "source": [
    "# Sample Code for predicting Apple or Orange\r\n",
    "\r\n",
    "import sklearn\r\n",
    "from sklearn import tree\r\n",
    "\r\n",
    "features = [[1,150],[2,50],[2,60],[1,120],[1,122],[2,80]] \r\n",
    "# 1 - Smooth and 2 - Bumpy in the first index\r\n",
    "# The numbers in the seconds index are merely the grams\r\n",
    "\r\n",
    "label = [1,2,2,1,1,2]\r\n",
    "# 1 - Apple and 2 - Orange in the label variable\r\n",
    "\r\n",
    "clf = tree.DecisionTreeClassifier()\r\n",
    "clf = clf.fit(features,label)\r\n",
    "print(\"Fruit prediction:\", clf.predict([[1,140]]))\r\n",
    "\r\n",
    "# Note: 1 indicates Apple and 2 indicates Orange in the output"
   ],
   "outputs": [
    {
     "output_type": "stream",
     "name": "stdout",
     "text": [
      "Fruit prediction: [1]\n"
     ]
    }
   ],
   "metadata": {}
  },
  {
   "cell_type": "code",
   "execution_count": 7,
   "source": [
    "# Evaluation Code for predicting Sports/Race cars or Family cars\r\n",
    "\r\n",
    "import sklearn\r\n",
    "from sklearn import tree\r\n",
    "\r\n",
    "features = [[2,100],[6,25],[1,300],[1,1000],[4,100],[10,100]]\r\n",
    "# 2,6,1,1,4,10 indicate the seats in a car inside the first index\r\n",
    "# 100,25,300,1000,100,100 indicate the engine horsepower inside the second index\r\n",
    "\r\n",
    "label = [1,2,2,1,1,2]\r\n",
    "# 1 - Sports/Race cars and 2 - Family cars in the label variable\r\n",
    "\r\n",
    "clf = tree.DecisionTreeClassifier()\r\n",
    "clf = clf.fit(features,label)\r\n",
    "print(\"Car prediction:\", clf.predict([[7,250]]))\r\n",
    "\r\n",
    "# Note : 1 indicates Sports/Race Car and 2 indicates Family Car in the output"
   ],
   "outputs": [
    {
     "output_type": "stream",
     "name": "stdout",
     "text": [
      "Car prediction: [2]\n"
     ]
    }
   ],
   "metadata": {}
  },
  {
   "cell_type": "markdown",
   "source": [
    "Built a Face Recognition Application using Python in GUVI course and received a certificate for the same.\r\n",
    "\r\n",
    "Credential ID: 714844Feb7562tQq65\r\n",
    "\r\n",
    "Credential URL: https://www.guvi.in/verify-certificate?id=714844Feb7562tQq65&course=aiforindiaenglishhandson"
   ],
   "metadata": {}
  }
 ],
 "metadata": {
  "orig_nbformat": 4,
  "language_info": {
   "name": "python",
   "version": "3.8.8",
   "mimetype": "text/x-python",
   "codemirror_mode": {
    "name": "ipython",
    "version": 3
   },
   "pygments_lexer": "ipython3",
   "nbconvert_exporter": "python",
   "file_extension": ".py"
  },
  "kernelspec": {
   "name": "python3",
   "display_name": "Python 3.8.8 64-bit ('base': conda)"
  },
  "interpreter": {
   "hash": "bbeb942dd2da2655a142babde40048b086932104910a0467be641da47a1bf07d"
  }
 },
 "nbformat": 4,
 "nbformat_minor": 2
}